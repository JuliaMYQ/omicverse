{
 "cells": [
  {
   "cell_type": "code",
   "execution_count": 1,
   "id": "c4d12bf2-8723-4223-a82d-046c3a04a46f",
   "metadata": {},
   "outputs": [
    {
     "name": "stdout",
     "output_type": "stream",
     "text": [
      "anndata(Ver):  0.8.0\n",
      "scanpy(Ver):  1.9.1\n",
      "matplotlib(Ver):  3.6.2\n",
      "seaborn(Ver):  0.12.1\n",
      "numpy(Ver):  1.23.2\n",
      "pandas(Ver):  1.3.5\n",
      "scvelo(Ver):  0.2.5\n",
      "Pyomic(Ver):  1.1.7\n"
     ]
    },
    {
     "name": "stderr",
     "output_type": "stream",
     "text": [
      "Global seed set to 0\n"
     ]
    },
    {
     "name": "stdout",
     "output_type": "stream",
     "text": [
      "scvi(Ver):  0.20.1\n",
      "infercnvpy(Ver):  0.4.0\n"
     ]
    }
   ],
   "source": [
    "#导入包\n",
    "import anndata\n",
    "print('anndata(Ver): ',anndata.__version__)\n",
    "import scanpy as sc\n",
    "print('scanpy(Ver): ',sc.__version__)\n",
    "import matplotlib.pyplot as plt\n",
    "import matplotlib\n",
    "print('matplotlib(Ver): ',matplotlib.__version__)\n",
    "import seaborn as sns\n",
    "print('seaborn(Ver): ',sns.__version__)\n",
    "import numpy as np\n",
    "print('numpy(Ver): ',np.__version__)\n",
    "import pandas as pd\n",
    "print('pandas(Ver): ',pd.__version__)\n",
    "import scvelo as scv\n",
    "print('scvelo(Ver): ',scv.__version__)\n",
    "import Pyomic\n",
    "print('Pyomic(Ver): ',Pyomic.__version__)\n",
    "import scvi\n",
    "print('scvi(Ver): ',scvi.__version__)\n",
    "import infercnvpy as cnv\n",
    "print('infercnvpy(Ver): ',cnv.__version__)\n",
    "\n",
    "\n",
    "#绘图参数设置\n",
    "sc.settings.verbosity = 3             # verbosity: errors (0), warnings (1), info (2), hints (3)\n",
    "sc.settings.set_figure_params(dpi=80, facecolor='white')\n",
    "\n",
    "from matplotlib.colors import LinearSegmentedColormap\n",
    "sc_color=['#7CBB5F','#368650','#A499CC','#5E4D9A','#78C2ED','#866017', '#9F987F','#E0DFED',\n",
    " '#EF7B77', '#279AD7','#F0EEF0', '#1F577B', '#A56BA7', '#E0A7C8', '#E069A6', '#941456', '#FCBC10',\n",
    " '#EAEFC5', '#01A0A7', '#75C8CC', '#F0D7BC', '#D5B26C', '#D5DA48', '#B6B812', '#9DC3C3', '#A89C92', '#FEE00C', '#FEF2A1']\n",
    "sc_color_cmap = LinearSegmentedColormap.from_list('Custom', sc_color, len(sc_color))"
   ]
  },
  {
   "cell_type": "code",
   "execution_count": 2,
   "id": "295e7fff-1622-4886-a14a-036fd3c14de7",
   "metadata": {},
   "outputs": [],
   "source": [
    "import argparse, os, sys\n",
    "from os import listdir\n",
    "from os.path import isfile, join\n",
    "\n",
    "import pickle\n",
    "import math\n",
    "import collections\n",
    "import time\n",
    "\n",
    "import numpy as np\n",
    "import pandas as pd\n",
    "import scanpy as sc\n",
    "import warnings\n",
    "warnings.filterwarnings('ignore')\n",
    "\n",
    "from sklearn.metrics import silhouette_score\n",
    "import multiprocess as mp\n",
    "from functools import partial\n",
    "\n",
    "import kaplanmeier as km\n",
    "from lifelines import KaplanMeierFitter, CoxPHFitter\n",
    "from lifelines.statistics import logrank_test\n",
    "\n",
    "import matplotlib as mpl\n",
    "import matplotlib.pyplot as plt\n",
    "from matplotlib.backends.backend_pdf import PdfPages"
   ]
  },
  {
   "cell_type": "code",
   "execution_count": 3,
   "id": "de17c7f8-9e27-4f89-87af-88ac6adf3851",
   "metadata": {},
   "outputs": [
    {
     "data": {
      "text/plain": [
       "AnnData object with n_obs × n_vars = 42546 × 24708\n",
       "    obs: 'SRR', 'Cancer', 'site', 'n_genes', 'n_genes_by_counts', 'total_counts', 'total_counts_mt', 'pct_counts_mt', '_scvi_batch', '_scvi_labels', 'leiden', 'major_celltype', 'cnv_leiden', 'cnv_score', 'cnv_status'\n",
       "    var: 'n_cells', 'mt', 'n_cells_by_counts', 'mean_counts', 'pct_dropout_by_counts', 'total_counts', 'chrom', 'chromStart', 'chromEnd', 'name', 'score', 'strand', 'thickStart', 'thickEnd', 'itemRgb', 'blockCount', 'blockSizes', 'blockStarts', 'gene_id', 'gene_type', 'hgnc_id', 'havana_gene', 'tag', 'chromosome', 'start', 'end', 'gene_name'\n",
       "    uns: 'SRR_colors', '_scvi_manager_uuid', '_scvi_uuid', 'cnv', 'cnv_leiden_colors', 'cnv_neighbors', 'cnv_status_colors', 'cosg', 'dendrogram_leiden', 'hvg', 'leiden', 'leiden_colors', 'leiden_sizes', 'log1p', 'major_celltype_colors', 'neighbors', 'paga', 'rank_genes_groups', 'umap'\n",
       "    obsm: 'X_cnv', 'X_cnv_pca', 'X_cnv_umap', 'X_pca', 'X_scVI', 'X_umap'\n",
       "    obsp: 'cnv_neighbors_connectivities', 'cnv_neighbors_distances', 'connectivities', 'distances'"
      ]
     },
     "execution_count": 3,
     "metadata": {},
     "output_type": "execute_result"
    }
   ],
   "source": [
    "adata=sc.read('crc_rna_infercnv.h5ad')\n",
    "adata"
   ]
  },
  {
   "cell_type": "code",
   "execution_count": 4,
   "id": "3286d922-1e47-4806-a78d-b0ba15bc34d4",
   "metadata": {},
   "outputs": [
    {
     "data": {
      "text/plain": [
       "AnnData object with n_obs × n_vars = 9889 × 24708\n",
       "    obs: 'SRR', 'Cancer', 'site', 'n_genes', 'n_genes_by_counts', 'total_counts', 'total_counts_mt', 'pct_counts_mt', '_scvi_batch', '_scvi_labels', 'leiden', 'major_celltype', 'cnv_leiden', 'cnv_score', 'cnv_status'\n",
       "    var: 'n_cells', 'mt', 'n_cells_by_counts', 'mean_counts', 'pct_dropout_by_counts', 'total_counts'\n",
       "    uns: 'SRR_colors', '_scvi_manager_uuid', '_scvi_uuid', 'cnv', 'cnv_leiden_colors', 'cnv_neighbors', 'cnv_status_colors', 'cosg', 'dendrogram_leiden', 'hvg', 'leiden', 'leiden_colors', 'leiden_sizes', 'log1p', 'major_celltype_colors', 'neighbors', 'paga', 'rank_genes_groups', 'umap'\n",
       "    obsm: 'X_cnv', 'X_cnv_pca', 'X_cnv_umap', 'X_pca', 'X_scVI', 'X_umap'\n",
       "    obsp: 'cnv_neighbors_connectivities', 'cnv_neighbors_distances', 'connectivities', 'distances'"
      ]
     },
     "execution_count": 4,
     "metadata": {},
     "output_type": "execute_result"
    }
   ],
   "source": [
    "tumor=adata[adata.obs['cnv_status']=='tumor']\n",
    "tumor=tumor.raw.to_adata()\n",
    "tumor"
   ]
  },
  {
   "cell_type": "code",
   "execution_count": 5,
   "id": "a07bc2d2-4299-4d88-ada2-061f1d1b002b",
   "metadata": {},
   "outputs": [
    {
     "name": "stdout",
     "output_type": "stream",
     "text": [
      "Preprocessing...\n",
      "filtered out 2051 genes that are detected in less than 3 cells\n",
      "normalizing counts per cell\n",
      "    finished (0:00:00)\n",
      "WARNING: adata.X seems to be already log-transformed.\n",
      "extracting highly variable genes\n",
      "    finished (0:00:00)\n",
      "--> added\n",
      "    'highly_variable', boolean vector (adata.var)\n",
      "    'means', float vector (adata.var)\n",
      "    'dispersions', float vector (adata.var)\n",
      "    'dispersions_norm', float vector (adata.var)\n",
      "... as `zero_center=True`, sparse input is densified and may lead to large memory consumption\n",
      "computing PCA\n",
      "    on highly variable genes\n",
      "    with n_comps=50\n",
      "    finished (0:00:01)\n"
     ]
    }
   ],
   "source": [
    "adata=tumor\n",
    "print('Preprocessing...')\n",
    "sc.pp.filter_cells(adata, min_genes=200)\n",
    "sc.pp.filter_genes(adata, min_cells=3)\n",
    "adata.var['mt'] = adata.var_names.str.startswith('MT-')\n",
    "sc.pp.calculate_qc_metrics(adata, qc_vars=['mt'], percent_top=None, log1p=False, inplace=True)\n",
    "if not (adata.obs.pct_counts_mt == 0).all():\n",
    "    adata = adata[adata.obs.pct_counts_mt < 30, :]\n",
    "sc.pp.normalize_total(adata, target_sum=1e4)\n",
    "adata.raw = adata.copy()\n",
    "sc.pp.log1p(adata)\n",
    "sc.pp.highly_variable_genes(adata)\n",
    "adata = adata[:, adata.var.highly_variable]\n",
    "sc.pp.scale(adata)\n",
    "sc.tl.pca(adata, svd_solver='arpack')"
   ]
  },
  {
   "cell_type": "code",
   "execution_count": 6,
   "id": "dd80e6bd-38fa-4908-8ffd-4125fce2238d",
   "metadata": {},
   "outputs": [
    {
     "name": "stdout",
     "output_type": "stream",
     "text": [
      "computing neighbors\n",
      "    using 'X_pca' with n_pcs = 20\n"
     ]
    },
    {
     "name": "stderr",
     "output_type": "stream",
     "text": [
      "OMP: Info #276: omp_set_nested routine deprecated, please use omp_set_max_active_levels instead.\n"
     ]
    },
    {
     "name": "stdout",
     "output_type": "stream",
     "text": [
      "    finished: added to `.uns['neighbors']`\n",
      "    `.obsp['distances']`, distances for each pair of neighbors\n",
      "    `.obsp['connectivities']`, weighted adjacency matrix (0:00:12)\n",
      "computing UMAP\n",
      "    finished: added\n",
      "    'X_umap', UMAP coordinates (adata.obsm) (0:00:09)\n"
     ]
    }
   ],
   "source": [
    "sc.pp.neighbors(adata, n_pcs=20)\n",
    "sc.tl.umap(adata)\n"
   ]
  },
  {
   "cell_type": "code",
   "execution_count": null,
   "id": "b9ed7fec",
   "metadata": {},
   "outputs": [],
   "source": [
    "Pyomic.utils.download_GDSC_data()\n",
    "Pyomic.utils.download_CaDRReS_model()"
   ]
  },
  {
   "cell_type": "code",
   "execution_count": 8,
   "id": "aa2417cd-7d31-4be9-9fc1-8ef41c3b8f36",
   "metadata": {},
   "outputs": [
    {
     "name": "stdout",
     "output_type": "stream",
     "text": [
      "Automatically determine clustering resolution...\n",
      "Clustering test: resolution =  0.4\n",
      "running Louvain clustering\n",
      "    using the \"louvain\" package of Traag (2017)\n",
      "    finished: found 16 clusters and added\n",
      "    'louvain', the cluster labels (adata.obs, categorical) (0:00:00)\n",
      "running Louvain clustering\n",
      "    using the \"louvain\" package of Traag (2017)\n",
      "    finished: found 14 clusters and added\n",
      "    'louvain', the cluster labels (adata.obs, categorical) (0:00:00)\n",
      "running Louvain clustering\n",
      "    using the \"louvain\" package of Traag (2017)\n",
      "    finished: found 15 clusters and added\n",
      "    'louvain', the cluster labels (adata.obs, categorical) (0:00:00)\n",
      "running Louvain clustering\n",
      "    using the \"louvain\" package of Traag (2017)\n",
      "    finished: found 17 clusters and added\n",
      "    'louvain', the cluster labels (adata.obs, categorical) (0:00:00)\n",
      "running Louvain clustering\n",
      "    using the \"louvain\" package of Traag (2017)\n",
      "    finished: found 16 clusters and added\n",
      "    'louvain', the cluster labels (adata.obs, categorical) (0:00:00)\n",
      "running Louvain clustering\n",
      "    using the \"louvain\" package of Traag (2017)\n",
      "    finished: found 14 clusters and added\n",
      "    'louvain_r0.4', the cluster labels (adata.obs, categorical) (0:00:00)\n",
      "robustness score =  0.8461925036712779\n",
      "time: {} 43.9990770816803\n",
      "\n",
      "Clustering test: resolution =  0.6\n",
      "running Louvain clustering\n",
      "    using the \"louvain\" package of Traag (2017)\n",
      "    finished: found 21 clusters and added\n",
      "    'louvain', the cluster labels (adata.obs, categorical) (0:00:00)\n",
      "running Louvain clustering\n",
      "    using the \"louvain\" package of Traag (2017)\n",
      "    finished: found 19 clusters and added\n",
      "    'louvain', the cluster labels (adata.obs, categorical) (0:00:00)\n",
      "running Louvain clustering\n",
      "    using the \"louvain\" package of Traag (2017)\n",
      "    finished: found 19 clusters and added\n",
      "    'louvain', the cluster labels (adata.obs, categorical) (0:00:00)\n",
      "running Louvain clustering\n",
      "    using the \"louvain\" package of Traag (2017)\n",
      "    finished: found 17 clusters and added\n",
      "    'louvain', the cluster labels (adata.obs, categorical) (0:00:00)\n",
      "running Louvain clustering\n",
      "    using the \"louvain\" package of Traag (2017)\n",
      "    finished: found 19 clusters and added\n",
      "    'louvain', the cluster labels (adata.obs, categorical) (0:00:00)\n",
      "running Louvain clustering\n",
      "    using the \"louvain\" package of Traag (2017)\n",
      "    finished: found 17 clusters and added\n",
      "    'louvain_r0.6', the cluster labels (adata.obs, categorical) (0:00:00)\n",
      "robustness score =  0.7865450792930442\n",
      "time: {} 43.61357808113098\n",
      "\n",
      "Clustering test: resolution =  0.8\n",
      "running Louvain clustering\n",
      "    using the \"louvain\" package of Traag (2017)\n",
      "    finished: found 23 clusters and added\n",
      "    'louvain', the cluster labels (adata.obs, categorical) (0:00:00)\n",
      "running Louvain clustering\n",
      "    using the \"louvain\" package of Traag (2017)\n",
      "    finished: found 21 clusters and added\n",
      "    'louvain', the cluster labels (adata.obs, categorical) (0:00:00)\n",
      "running Louvain clustering\n",
      "    using the \"louvain\" package of Traag (2017)\n",
      "    finished: found 23 clusters and added\n",
      "    'louvain', the cluster labels (adata.obs, categorical) (0:00:00)\n",
      "running Louvain clustering\n",
      "    using the \"louvain\" package of Traag (2017)\n",
      "    finished: found 22 clusters and added\n",
      "    'louvain', the cluster labels (adata.obs, categorical) (0:00:00)\n",
      "running Louvain clustering\n",
      "    using the \"louvain\" package of Traag (2017)\n",
      "    finished: found 21 clusters and added\n",
      "    'louvain', the cluster labels (adata.obs, categorical) (0:00:00)\n",
      "running Louvain clustering\n",
      "    using the \"louvain\" package of Traag (2017)\n",
      "    finished: found 21 clusters and added\n",
      "    'louvain_r0.8', the cluster labels (adata.obs, categorical) (0:00:00)\n",
      "robustness score =  0.7125140715342845\n",
      "time: {} 44.49566578865051\n",
      "\n",
      "Clustering test: resolution =  1.0\n",
      "running Louvain clustering\n",
      "    using the \"louvain\" package of Traag (2017)\n",
      "    finished: found 24 clusters and added\n",
      "    'louvain', the cluster labels (adata.obs, categorical) (0:00:00)\n",
      "running Louvain clustering\n",
      "    using the \"louvain\" package of Traag (2017)\n",
      "    finished: found 23 clusters and added\n",
      "    'louvain', the cluster labels (adata.obs, categorical) (0:00:00)\n",
      "running Louvain clustering\n",
      "    using the \"louvain\" package of Traag (2017)\n",
      "    finished: found 24 clusters and added\n",
      "    'louvain', the cluster labels (adata.obs, categorical) (0:00:00)\n",
      "running Louvain clustering\n",
      "    using the \"louvain\" package of Traag (2017)\n",
      "    finished: found 24 clusters and added\n",
      "    'louvain', the cluster labels (adata.obs, categorical) (0:00:00)\n",
      "running Louvain clustering\n",
      "    using the \"louvain\" package of Traag (2017)\n",
      "    finished: found 23 clusters and added\n",
      "    'louvain', the cluster labels (adata.obs, categorical) (0:00:00)\n",
      "running Louvain clustering\n",
      "    using the \"louvain\" package of Traag (2017)\n",
      "    finished: found 23 clusters and added\n",
      "    'louvain_r1.0', the cluster labels (adata.obs, categorical) (0:00:00)\n",
      "robustness score =  0.7109711393260257\n",
      "time: {} 42.22748899459839\n",
      "\n",
      "Clustering test: resolution =  1.2\n",
      "running Louvain clustering\n",
      "    using the \"louvain\" package of Traag (2017)\n",
      "    finished: found 24 clusters and added\n",
      "    'louvain', the cluster labels (adata.obs, categorical) (0:00:00)\n",
      "running Louvain clustering\n",
      "    using the \"louvain\" package of Traag (2017)\n",
      "    finished: found 25 clusters and added\n",
      "    'louvain', the cluster labels (adata.obs, categorical) (0:00:00)\n",
      "running Louvain clustering\n",
      "    using the \"louvain\" package of Traag (2017)\n",
      "    finished: found 26 clusters and added\n",
      "    'louvain', the cluster labels (adata.obs, categorical) (0:00:00)\n",
      "running Louvain clustering\n",
      "    using the \"louvain\" package of Traag (2017)\n",
      "    finished: found 25 clusters and added\n",
      "    'louvain', the cluster labels (adata.obs, categorical) (0:00:00)\n",
      "running Louvain clustering\n",
      "    using the \"louvain\" package of Traag (2017)\n",
      "    finished: found 25 clusters and added\n",
      "    'louvain', the cluster labels (adata.obs, categorical) (0:00:00)\n",
      "running Louvain clustering\n",
      "    using the \"louvain\" package of Traag (2017)\n",
      "    finished: found 23 clusters and added\n",
      "    'louvain_r1.2', the cluster labels (adata.obs, categorical) (0:00:00)\n",
      "robustness score =  0.7427022379468977\n",
      "time: {} 42.20949602127075\n",
      "\n",
      "Clustering test: resolution =  1.4\n",
      "running Louvain clustering\n",
      "    using the \"louvain\" package of Traag (2017)\n",
      "    finished: found 28 clusters and added\n",
      "    'louvain', the cluster labels (adata.obs, categorical) (0:00:00)\n",
      "running Louvain clustering\n",
      "    using the \"louvain\" package of Traag (2017)\n",
      "    finished: found 26 clusters and added\n",
      "    'louvain', the cluster labels (adata.obs, categorical) (0:00:00)\n",
      "running Louvain clustering\n",
      "    using the \"louvain\" package of Traag (2017)\n",
      "    finished: found 26 clusters and added\n",
      "    'louvain', the cluster labels (adata.obs, categorical) (0:00:00)\n",
      "running Louvain clustering\n",
      "    using the \"louvain\" package of Traag (2017)\n",
      "    finished: found 26 clusters and added\n",
      "    'louvain', the cluster labels (adata.obs, categorical) (0:00:00)\n",
      "running Louvain clustering\n",
      "    using the \"louvain\" package of Traag (2017)\n",
      "    finished: found 25 clusters and added\n",
      "    'louvain', the cluster labels (adata.obs, categorical) (0:00:00)\n",
      "running Louvain clustering\n",
      "    using the \"louvain\" package of Traag (2017)\n",
      "    finished: found 25 clusters and added\n",
      "    'louvain_r1.4', the cluster labels (adata.obs, categorical) (0:00:00)\n",
      "robustness score =  0.7526975021228955\n",
      "time: {} 42.31654191017151\n",
      "\n",
      "resolution with highest score:  0.4\n",
      "time: {} 258.89505410194397\n"
     ]
    },
    {
     "data": {
      "image/png": "[encoded data removed]",
      "text/plain": [
       "<Figure size 320x320 with 1 Axes>"
      ]
     },
     "metadata": {
      "image/png": {
       "height": 318,
       "width": 331
      }
     },
     "output_type": "display_data"
    }
   ],
   "source": [
    "adata, res,plot_df = Pyomic.single.autoResolution(adata,cpus=4)"
   ]
  },
  {
   "cell_type": "code",
   "execution_count": null,
   "id": "ea3f344f-3541-4dad-8b26-192533e4c81a",
   "metadata": {},
   "outputs": [],
   "source": [
    "results_file = os.path.join('tutorial', 'scanpyobj.h5ad')\n",
    "adata.write(results_file)"
   ]
  },
  {
   "cell_type": "code",
   "execution_count": 1,
   "id": "7e699169-a51e-4580-ae01-53481d17c3b5",
   "metadata": {},
   "outputs": [],
   "source": [
    "import scanpy as sc\n",
    "import os\n",
    "results_file = os.path.join('./', 'scanpyobj.h5ad')\n",
    "adata=sc.read(results_file)\n"
   ]
  },
  {
   "cell_type": "code",
   "execution_count": 2,
   "id": "4741d852-c975-44a0-9c64-abb12ca37021",
   "metadata": {},
   "outputs": [
    {
     "name": "stdout",
     "output_type": "stream",
     "text": [
      "/Users/fernandozeng/Desktop/Pyomic/tutorial\n"
     ]
    }
   ],
   "source": [
    "!pwd"
   ]
  },
  {
   "cell_type": "code",
   "execution_count": 4,
   "id": "8f760f36-45e0-4fae-8741-e7688f052414",
   "metadata": {},
   "outputs": [
    {
     "name": "stdout",
     "output_type": "stream",
     "text": [
      "Calculating kernel features based on 14980 common genes\n",
      "(22657, 14) (17419, 1018)\n",
      "Predicting drug response for using CaDRReS(GDSC): cadrres-wo-sample-bias\n",
      "done!\n",
      "Ploting...\n",
      "done!\n"
     ]
    }
   ],
   "source": [
    "import Pyomic\n",
    "job=Pyomic.single.Drug_Response(adata,scriptpath='/Users/fernandozeng/Desktop/analysis/CaDRReS-Sc',\n",
    "                                modelpath='/Users/fernandozeng/Desktop/Pyomic/models/',\n",
    "                                output='result')"
   ]
  },
  {
   "cell_type": "code",
   "execution_count": null,
   "id": "ea5c755a-d0c0-4277-94b3-54ff06fe5b34",
   "metadata": {},
   "outputs": [],
   "source": []
  }
 ],
 "metadata": {
  "kernelspec": {
   "display_name": "Python 3 (ipykernel)",
   "language": "python",
   "name": "python3"
  },
  "language_info": {
   "codemirror_mode": {
    "name": "ipython",
    "version": 3
   },
   "file_extension": ".py",
   "mimetype": "text/x-python",
   "name": "python",
   "nbconvert_exporter": "python",
   "pygments_lexer": "ipython3",
   "version": "3.8.13"
  }
 },
 "nbformat": 4,
 "nbformat_minor": 5
}
