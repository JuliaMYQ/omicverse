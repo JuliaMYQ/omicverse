{
 "cells": [
  {
   "cell_type": "code",
   "execution_count": 3,
   "id": "72ed5e6f-c9ce-4362-93dd-34b0fbd21466",
   "metadata": {},
   "outputs": [],
   "source": [
    "import Pyomic\n",
    "%matplotlib inline"
   ]
  },
  {
   "cell_type": "code",
   "execution_count": null,
   "id": "b6ebe6b5-40df-4f96-8e6c-fcfc21c217ab",
   "metadata": {},
   "outputs": [],
   "source": []
  }
 ],
 "metadata": {
  "kernelspec": {
   "display_name": "Python 3 (ipykernel)",
   "language": "python",
   "name": "python3"
  },
  "language_info": {
   "codemirror_mode": {
    "name": "ipython",
    "version": 3
   },
   "file_extension": ".py",
   "mimetype": "text/x-python",
   "name": "python",
   "nbconvert_exporter": "python",
   "pygments_lexer": "ipython3",
   "version": "3.8.13"
  }
 },
 "nbformat": 4,
 "nbformat_minor": 5
}
